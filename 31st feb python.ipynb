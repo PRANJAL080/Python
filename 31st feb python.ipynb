{
 "cells": [
  {
   "cell_type": "code",
   "execution_count": 1,
   "id": "c4ddeefc-c93a-4464-b58a-076c3965cd32",
   "metadata": {},
   "outputs": [],
   "source": [
    "l=[1,34,456,\"pranjal\",True,5+7j,345.89]"
   ]
  },
  {
   "cell_type": "code",
   "execution_count": 2,
   "id": "0146ab60-3ea8-40c8-a9ca-36b1adf38b13",
   "metadata": {},
   "outputs": [
    {
     "data": {
      "text/plain": [
       "[1, 34, 456, 'pranjal', True, (5+7j), 345.89]"
      ]
     },
     "execution_count": 2,
     "metadata": {},
     "output_type": "execute_result"
    }
   ],
   "source": [
    "l"
   ]
  },
  {
   "cell_type": "code",
   "execution_count": 3,
   "id": "e554d57c-1248-4f78-866f-ca29af38beeb",
   "metadata": {},
   "outputs": [
    {
     "data": {
      "text/plain": [
       "[1, 34, 456, 'pranjal', True, (5+7j), 345.89]"
      ]
     },
     "execution_count": 3,
     "metadata": {},
     "output_type": "execute_result"
    }
   ],
   "source": [
    "l"
   ]
  },
  {
   "cell_type": "code",
   "execution_count": 4,
   "id": "f0a47cf2-2396-4a9f-9e42-a41e3ae94ea7",
   "metadata": {},
   "outputs": [
    {
     "data": {
      "text/plain": [
       "[1, 456, True, 345.89]"
      ]
     },
     "execution_count": 4,
     "metadata": {},
     "output_type": "execute_result"
    }
   ],
   "source": [
    "l[0:8:2]"
   ]
  },
  {
   "cell_type": "code",
   "execution_count": 5,
   "id": "a9d2d994-f498-4bcd-9c1b-c85f24c0bd38",
   "metadata": {},
   "outputs": [],
   "source": [
    "s=\"PWSKILLS\""
   ]
  },
  {
   "cell_type": "code",
   "execution_count": 6,
   "id": "c3cb5666-9db9-4e63-afe0-a2349cda2bba",
   "metadata": {},
   "outputs": [
    {
     "data": {
      "text/plain": [
       "['P', 'W', 'S', 'K', 'I', 'L', 'L', 'S']"
      ]
     },
     "execution_count": 6,
     "metadata": {},
     "output_type": "execute_result"
    }
   ],
   "source": [
    "list(s)"
   ]
  },
  {
   "cell_type": "code",
   "execution_count": 7,
   "id": "be196200-c763-4490-81ab-0bd0d0f39e31",
   "metadata": {},
   "outputs": [],
   "source": [
    "k=list(s)+l"
   ]
  },
  {
   "cell_type": "code",
   "execution_count": 8,
   "id": "1cbf1d10-fb0d-49fb-a707-d96f060a8d49",
   "metadata": {},
   "outputs": [
    {
     "data": {
      "text/plain": [
       "[1, 34, 456, 'pranjal', True, (5+7j), 345.89]"
      ]
     },
     "execution_count": 8,
     "metadata": {},
     "output_type": "execute_result"
    }
   ],
   "source": [
    "l"
   ]
  },
  {
   "cell_type": "code",
   "execution_count": 9,
   "id": "2c00028d-2b92-4780-8f63-6872499d8702",
   "metadata": {},
   "outputs": [
    {
     "data": {
      "text/plain": [
       "['P',\n",
       " 'W',\n",
       " 'S',\n",
       " 'K',\n",
       " 'I',\n",
       " 'L',\n",
       " 'L',\n",
       " 'S',\n",
       " 1,\n",
       " 34,\n",
       " 456,\n",
       " 'pranjal',\n",
       " True,\n",
       " (5+7j),\n",
       " 345.89]"
      ]
     },
     "execution_count": 9,
     "metadata": {},
     "output_type": "execute_result"
    }
   ],
   "source": [
    "k"
   ]
  },
  {
   "cell_type": "code",
   "execution_count": 10,
   "id": "3ba84cec-03f1-449e-b596-2ac50aa2dd98",
   "metadata": {},
   "outputs": [],
   "source": [
    "m=\"PRANJAL\""
   ]
  },
  {
   "cell_type": "code",
   "execution_count": 11,
   "id": "f0ad3735-a6bd-49a1-9707-d62b979f04f3",
   "metadata": {},
   "outputs": [
    {
     "data": {
      "text/plain": [
       "['P', 'R', 'A', 'N', 'J', 'A', 'L']"
      ]
     },
     "execution_count": 11,
     "metadata": {},
     "output_type": "execute_result"
    }
   ],
   "source": [
    "list(m)"
   ]
  },
  {
   "cell_type": "code",
   "execution_count": 12,
   "id": "b3c3253a-1227-4dd6-9e69-938bafbd052b",
   "metadata": {},
   "outputs": [],
   "source": [
    "q=list(m)+l"
   ]
  },
  {
   "cell_type": "code",
   "execution_count": 13,
   "id": "0ef0fe4a-524f-4de8-9f9e-90bc6313cff6",
   "metadata": {},
   "outputs": [
    {
     "data": {
      "text/plain": [
       "['P',\n",
       " 'R',\n",
       " 'A',\n",
       " 'N',\n",
       " 'J',\n",
       " 'A',\n",
       " 'L',\n",
       " 1,\n",
       " 34,\n",
       " 456,\n",
       " 'pranjal',\n",
       " True,\n",
       " (5+7j),\n",
       " 345.89]"
      ]
     },
     "execution_count": 13,
     "metadata": {},
     "output_type": "execute_result"
    }
   ],
   "source": [
    "q"
   ]
  },
  {
   "cell_type": "code",
   "execution_count": 14,
   "id": "4183c427-8f1f-4d13-8579-9946687f7360",
   "metadata": {},
   "outputs": [
    {
     "data": {
      "text/plain": [
       "['P',\n",
       " 'R',\n",
       " 'A',\n",
       " 'N',\n",
       " 'J',\n",
       " 'A',\n",
       " 'L',\n",
       " 1,\n",
       " 34,\n",
       " 456,\n",
       " 'pranjal',\n",
       " True,\n",
       " (5+7j),\n",
       " 345.89]"
      ]
     },
     "execution_count": 14,
     "metadata": {},
     "output_type": "execute_result"
    }
   ],
   "source": [
    "q"
   ]
  },
  {
   "cell_type": "code",
   "execution_count": 15,
   "id": "3d9ad050-57d2-497b-bb2f-beff3c20e392",
   "metadata": {},
   "outputs": [
    {
     "data": {
      "text/plain": [
       "'pr'"
      ]
     },
     "execution_count": 15,
     "metadata": {},
     "output_type": "execute_result"
    }
   ],
   "source": [
    "l[3][0:2:1]"
   ]
  },
  {
   "cell_type": "code",
   "execution_count": 16,
   "id": "8b4d7104-0601-4d78-8549-8d5c62742b02",
   "metadata": {},
   "outputs": [
    {
     "data": {
      "text/plain": [
       "True"
      ]
     },
     "execution_count": 16,
     "metadata": {},
     "output_type": "execute_result"
    }
   ],
   "source": [
    "l[4]"
   ]
  },
  {
   "cell_type": "code",
   "execution_count": 17,
   "id": "feaa1990-3f60-471d-9589-fd43d3f4e6b7",
   "metadata": {},
   "outputs": [
    {
     "data": {
      "text/plain": [
       "'Tr'"
      ]
     },
     "execution_count": 17,
     "metadata": {},
     "output_type": "execute_result"
    }
   ],
   "source": [
    "str(l[4])[0:2]"
   ]
  },
  {
   "cell_type": "code",
   "execution_count": 18,
   "id": "936a284c-4584-46db-9b1c-22e4f96a37f4",
   "metadata": {},
   "outputs": [],
   "source": [
    "l1=[5]"
   ]
  },
  {
   "cell_type": "code",
   "execution_count": 19,
   "id": "6653cae8-e5b5-4ee6-88de-fd5b1d7ceb7a",
   "metadata": {},
   "outputs": [
    {
     "data": {
      "text/plain": [
       "[1, 34, 456, 'pranjal', True, (5+7j), 345.89]"
      ]
     },
     "execution_count": 19,
     "metadata": {},
     "output_type": "execute_result"
    }
   ],
   "source": [
    "l"
   ]
  },
  {
   "cell_type": "code",
   "execution_count": 20,
   "id": "d19ac208-6769-41b4-8447-1498105fdb63",
   "metadata": {},
   "outputs": [
    {
     "data": {
      "text/plain": [
       "[1, 34, 456, 'pranjal', True, (5+7j), 345.89, 5]"
      ]
     },
     "execution_count": 20,
     "metadata": {},
     "output_type": "execute_result"
    }
   ],
   "source": [
    "l+l1"
   ]
  },
  {
   "cell_type": "code",
   "execution_count": 21,
   "id": "c31a92ef-a808-4058-b684-696e87449ad6",
   "metadata": {},
   "outputs": [],
   "source": [
    "l.append(9)"
   ]
  },
  {
   "cell_type": "code",
   "execution_count": 22,
   "id": "872bc12a-8726-44d4-b5f0-dd63a7541e09",
   "metadata": {},
   "outputs": [
    {
     "data": {
      "text/plain": [
       "[1, 34, 456, 'pranjal', True, (5+7j), 345.89, 9]"
      ]
     },
     "execution_count": 22,
     "metadata": {},
     "output_type": "execute_result"
    }
   ],
   "source": [
    "l"
   ]
  },
  {
   "cell_type": "code",
   "execution_count": 23,
   "id": "20b20517-25a9-40a3-9cfc-a4d715c81378",
   "metadata": {},
   "outputs": [],
   "source": [
    "l.append(\"Chandu aur Raju ki dosti\")"
   ]
  },
  {
   "cell_type": "code",
   "execution_count": 24,
   "id": "e42440c2-6b18-4e59-81fb-6b64b6819b92",
   "metadata": {},
   "outputs": [
    {
     "data": {
      "text/plain": [
       "[1, 34, 456, 'pranjal', True, (5+7j), 345.89, 9, 'Chandu aur Raju ki dosti']"
      ]
     },
     "execution_count": 24,
     "metadata": {},
     "output_type": "execute_result"
    }
   ],
   "source": [
    "l"
   ]
  },
  {
   "cell_type": "code",
   "execution_count": 25,
   "id": "371ebc40-1957-4d3c-9939-92e7a21039b4",
   "metadata": {},
   "outputs": [
    {
     "data": {
      "text/plain": [
       "[5]"
      ]
     },
     "execution_count": 25,
     "metadata": {},
     "output_type": "execute_result"
    }
   ],
   "source": [
    "l1"
   ]
  },
  {
   "cell_type": "code",
   "execution_count": 26,
   "id": "c9b90119-5d35-4b30-885d-f6d9a4eeedea",
   "metadata": {},
   "outputs": [],
   "source": [
    "l1.append(\"jagu\")"
   ]
  },
  {
   "cell_type": "code",
   "execution_count": 27,
   "id": "a660081a-25cf-49a2-919d-58afc08e8f43",
   "metadata": {},
   "outputs": [
    {
     "data": {
      "text/plain": [
       "[5, 'jagu']"
      ]
     },
     "execution_count": 27,
     "metadata": {},
     "output_type": "execute_result"
    }
   ],
   "source": [
    "l1"
   ]
  },
  {
   "cell_type": "code",
   "execution_count": 28,
   "id": "dc295020-0e1e-4c82-b580-9444392cbd41",
   "metadata": {},
   "outputs": [],
   "source": [
    "s1=\"hindu rastra \""
   ]
  },
  {
   "cell_type": "code",
   "execution_count": 29,
   "id": "2e38c802-0634-47f7-bd52-b16abea72643",
   "metadata": {},
   "outputs": [],
   "source": [
    "s2=\"Nara hai\""
   ]
  },
  {
   "cell_type": "code",
   "execution_count": 30,
   "id": "02562ed4-2359-4e09-a5d8-22422745e2a7",
   "metadata": {},
   "outputs": [],
   "source": [
    "s3=s1+s2"
   ]
  },
  {
   "cell_type": "code",
   "execution_count": 31,
   "id": "27e53817-4015-4c15-8d23-0f52d95a88ec",
   "metadata": {},
   "outputs": [
    {
     "name": "stdout",
     "output_type": "stream",
     "text": [
      "\"hindu rastra Nara hai\"\n"
     ]
    }
   ],
   "source": [
    " print('\"'+s3+'\"')"
   ]
  },
  {
   "cell_type": "code",
   "execution_count": 32,
   "id": "2d073864-1e2a-423d-92c2-53d4ab88e6bd",
   "metadata": {},
   "outputs": [],
   "source": [
    "a = 100\n",
    "c = 100"
   ]
  },
  {
   "cell_type": "code",
   "execution_count": 33,
   "id": "ac5ed7a7-4ae2-46f8-9b7d-c0c8cead4d82",
   "metadata": {},
   "outputs": [
    {
     "data": {
      "text/plain": [
       "140036155362640"
      ]
     },
     "execution_count": 33,
     "metadata": {},
     "output_type": "execute_result"
    }
   ],
   "source": [
    "id(a)"
   ]
  },
  {
   "cell_type": "code",
   "execution_count": 34,
   "id": "b81e138f-edf7-43f8-a14d-a74b801ed5c6",
   "metadata": {},
   "outputs": [
    {
     "data": {
      "text/plain": [
       "140036155362640"
      ]
     },
     "execution_count": 34,
     "metadata": {},
     "output_type": "execute_result"
    }
   ],
   "source": [
    "id(c)"
   ]
  },
  {
   "cell_type": "code",
   "execution_count": 35,
   "id": "b2554b18-49cb-4fcd-9d38-d90af8f55fab",
   "metadata": {},
   "outputs": [
    {
     "data": {
      "text/plain": [
       "2"
      ]
     },
     "execution_count": 35,
     "metadata": {},
     "output_type": "execute_result"
    }
   ],
   "source": [
    "len(l1)"
   ]
  },
  {
   "cell_type": "code",
   "execution_count": 36,
   "id": "df551004-d2da-44a8-a3f4-474fc0e21b62",
   "metadata": {},
   "outputs": [],
   "source": [
    "l.append(l1)"
   ]
  },
  {
   "cell_type": "code",
   "execution_count": 37,
   "id": "0e8336e2-6327-4e0a-bf26-f4b73842652e",
   "metadata": {},
   "outputs": [
    {
     "data": {
      "text/plain": [
       "[1,\n",
       " 34,\n",
       " 456,\n",
       " 'pranjal',\n",
       " True,\n",
       " (5+7j),\n",
       " 345.89,\n",
       " 9,\n",
       " 'Chandu aur Raju ki dosti',\n",
       " [5, 'jagu']]"
      ]
     },
     "execution_count": 37,
     "metadata": {},
     "output_type": "execute_result"
    }
   ],
   "source": [
    "l"
   ]
  },
  {
   "cell_type": "code",
   "execution_count": 38,
   "id": "cbeabe8e-aa26-4adf-8862-4c1cb9426182",
   "metadata": {},
   "outputs": [
    {
     "ename": "IndexError",
     "evalue": "list index out of range",
     "output_type": "error",
     "traceback": [
      "\u001b[0;31m---------------------------------------------------------------------------\u001b[0m",
      "\u001b[0;31mIndexError\u001b[0m                                Traceback (most recent call last)",
      "Cell \u001b[0;32mIn[38], line 1\u001b[0m\n\u001b[0;32m----> 1\u001b[0m \u001b[43ml\u001b[49m\u001b[43m[\u001b[49m\u001b[38;5;241;43m11\u001b[39;49m\u001b[43m]\u001b[49m[\u001b[38;5;241m1\u001b[39m]\n",
      "\u001b[0;31mIndexError\u001b[0m: list index out of range"
     ]
    }
   ],
   "source": [
    "l[11][1]"
   ]
  },
  {
   "cell_type": "code",
   "execution_count": 39,
   "id": "c2a26e05-1e95-4e78-b000-d4339a12ed7b",
   "metadata": {},
   "outputs": [
    {
     "data": {
      "text/plain": [
       "9"
      ]
     },
     "execution_count": 39,
     "metadata": {},
     "output_type": "execute_result"
    }
   ],
   "source": [
    "l[-3]\n"
   ]
  },
  {
   "cell_type": "code",
   "execution_count": 40,
   "id": "5d760f9e-93f8-40aa-8575-18dab0af14f7",
   "metadata": {},
   "outputs": [
    {
     "data": {
      "text/plain": [
       "[1,\n",
       " 34,\n",
       " 456,\n",
       " 'pranjal',\n",
       " True,\n",
       " (5+7j),\n",
       " 345.89,\n",
       " 9,\n",
       " 'Chandu aur Raju ki dosti',\n",
       " [5, 'jagu']]"
      ]
     },
     "execution_count": 40,
     "metadata": {},
     "output_type": "execute_result"
    }
   ],
   "source": [
    "l"
   ]
  },
  {
   "cell_type": "code",
   "execution_count": 41,
   "id": "c16fa737-d094-4ffc-ad12-9203c7c598b0",
   "metadata": {},
   "outputs": [],
   "source": [
    "l.extend(\"karan aujla\")"
   ]
  },
  {
   "cell_type": "code",
   "execution_count": 42,
   "id": "7a306555-8688-4881-9920-2e27d04396ae",
   "metadata": {},
   "outputs": [
    {
     "data": {
      "text/plain": [
       "[1,\n",
       " 34,\n",
       " 456,\n",
       " 'pranjal',\n",
       " True,\n",
       " (5+7j),\n",
       " 345.89,\n",
       " 9,\n",
       " 'Chandu aur Raju ki dosti',\n",
       " [5, 'jagu'],\n",
       " 'k',\n",
       " 'a',\n",
       " 'r',\n",
       " 'a',\n",
       " 'n',\n",
       " ' ',\n",
       " 'a',\n",
       " 'u',\n",
       " 'j',\n",
       " 'l',\n",
       " 'a']"
      ]
     },
     "execution_count": 42,
     "metadata": {},
     "output_type": "execute_result"
    }
   ],
   "source": [
    "l"
   ]
  },
  {
   "cell_type": "code",
   "execution_count": 43,
   "id": "ce7fec27-1411-4ef7-8c41-23fdf774000e",
   "metadata": {},
   "outputs": [],
   "source": [
    "l1.extend('pran')"
   ]
  },
  {
   "cell_type": "code",
   "execution_count": 44,
   "id": "5b4b2dec-63e3-4a70-912c-df9c80b4bd2f",
   "metadata": {},
   "outputs": [
    {
     "data": {
      "text/plain": [
       "[5, 'jagu', 'p', 'r', 'a', 'n']"
      ]
     },
     "execution_count": 44,
     "metadata": {},
     "output_type": "execute_result"
    }
   ],
   "source": [
    "l1"
   ]
  },
  {
   "cell_type": "code",
   "execution_count": 45,
   "id": "69a1fcc0-9528-4042-a5b9-5d27161fa52b",
   "metadata": {},
   "outputs": [],
   "source": [
    "l1.insert(1,\"pranjal\")"
   ]
  },
  {
   "cell_type": "code",
   "execution_count": 46,
   "id": "6af442a7-16d9-4cf4-ae0c-c0f6cf2aa8a6",
   "metadata": {},
   "outputs": [
    {
     "data": {
      "text/plain": [
       "[5, 'pranjal', 'jagu', 'p', 'r', 'a', 'n']"
      ]
     },
     "execution_count": 46,
     "metadata": {},
     "output_type": "execute_result"
    }
   ],
   "source": [
    "l1"
   ]
  },
  {
   "cell_type": "code",
   "execution_count": 47,
   "id": "5df827c3-0655-4644-8550-d3a169122d9e",
   "metadata": {},
   "outputs": [],
   "source": [
    "##insert anywhere in the list then we use insert function  \n",
    "## if we want to add in the last we use append extend function  in the list "
   ]
  },
  {
   "cell_type": "code",
   "execution_count": 48,
   "id": "ce44dbbc-da72-4a66-8750-ebfd68e0a37c",
   "metadata": {},
   "outputs": [],
   "source": [
    "l1.extend([\"Ravi\",100])"
   ]
  },
  {
   "cell_type": "code",
   "execution_count": 49,
   "id": "aa498604-9163-4c49-bc01-9e92563244c7",
   "metadata": {},
   "outputs": [
    {
     "data": {
      "text/plain": [
       "[5, 'pranjal', 'jagu', 'p', 'r', 'a', 'n', 'Ravi', 100]"
      ]
     },
     "execution_count": 49,
     "metadata": {},
     "output_type": "execute_result"
    }
   ],
   "source": [
    "l1"
   ]
  },
  {
   "cell_type": "code",
   "execution_count": 50,
   "id": "47eb3365-348c-40e9-9775-afe2591f6e25",
   "metadata": {},
   "outputs": [
    {
     "data": {
      "text/plain": [
       "[5, 'pranjal', 'jagu', 'p', 'r', 'a', 'n', 'Ravi', 100]"
      ]
     },
     "execution_count": 50,
     "metadata": {},
     "output_type": "execute_result"
    }
   ],
   "source": [
    "l1\n"
   ]
  },
  {
   "cell_type": "code",
   "execution_count": 51,
   "id": "bcae725a-f71b-43ef-ab72-85ae64174245",
   "metadata": {},
   "outputs": [
    {
     "data": {
      "text/plain": [
       "100"
      ]
     },
     "execution_count": 51,
     "metadata": {},
     "output_type": "execute_result"
    }
   ],
   "source": [
    "l1.pop()"
   ]
  },
  {
   "cell_type": "code",
   "execution_count": 52,
   "id": "03e1b494-b627-410b-bb8e-7ef621ce8357",
   "metadata": {},
   "outputs": [
    {
     "data": {
      "text/plain": [
       "[5, 'pranjal', 'jagu', 'p', 'r', 'a', 'n', 'Ravi']"
      ]
     },
     "execution_count": 52,
     "metadata": {},
     "output_type": "execute_result"
    }
   ],
   "source": [
    "l1"
   ]
  },
  {
   "cell_type": "code",
   "execution_count": 53,
   "id": "8b869f4f-cb16-482f-a4e4-e29f0768c3f8",
   "metadata": {},
   "outputs": [
    {
     "data": {
      "text/plain": [
       "'jagu'"
      ]
     },
     "execution_count": 53,
     "metadata": {},
     "output_type": "execute_result"
    }
   ],
   "source": [
    "l1.pop(2) ## yah par index dalenge jisko hatna hai "
   ]
  },
  {
   "cell_type": "code",
   "execution_count": 54,
   "id": "d4148e93-d068-4c83-8d04-c4e3ee7b1468",
   "metadata": {},
   "outputs": [
    {
     "data": {
      "text/plain": [
       "[5, 'pranjal', 'p', 'r', 'a', 'n', 'Ravi']"
      ]
     },
     "execution_count": 54,
     "metadata": {},
     "output_type": "execute_result"
    }
   ],
   "source": [
    "l1\n"
   ]
  },
  {
   "cell_type": "code",
   "execution_count": 55,
   "id": "038d398f-b65b-4110-949b-38bf56965275",
   "metadata": {},
   "outputs": [],
   "source": [
    "l1.remove('n') ##yaha par jisko hatna hai use pass karenge "
   ]
  },
  {
   "cell_type": "code",
   "execution_count": 56,
   "id": "bfc37b62-0fd1-4eec-b408-e27b8e170700",
   "metadata": {},
   "outputs": [
    {
     "data": {
      "text/plain": [
       "[5, 'pranjal', 'p', 'r', 'a', 'Ravi']"
      ]
     },
     "execution_count": 56,
     "metadata": {},
     "output_type": "execute_result"
    }
   ],
   "source": [
    "l1"
   ]
  },
  {
   "cell_type": "code",
   "execution_count": 57,
   "id": "12846ca0-11a9-472b-a780-8238dd3ba603",
   "metadata": {},
   "outputs": [],
   "source": [
    "l2=[32,45,76,]"
   ]
  },
  {
   "cell_type": "code",
   "execution_count": 58,
   "id": "7ce68ccc-6f37-4a8b-b583-f37e7e1a5cf0",
   "metadata": {},
   "outputs": [
    {
     "data": {
      "text/plain": [
       "[32, 45, 76]"
      ]
     },
     "execution_count": 58,
     "metadata": {},
     "output_type": "execute_result"
    }
   ],
   "source": [
    "l2"
   ]
  },
  {
   "cell_type": "code",
   "execution_count": 59,
   "id": "2aa6a08e-236a-43f7-8d52-781b03f43813",
   "metadata": {},
   "outputs": [],
   "source": [
    "l1.insert(2,l2)"
   ]
  },
  {
   "cell_type": "code",
   "execution_count": 60,
   "id": "d5957d2e-9665-4d75-8df7-ef8ff50e7c3a",
   "metadata": {},
   "outputs": [
    {
     "data": {
      "text/plain": [
       "[5, 'pranjal', [32, 45, 76], 'p', 'r', 'a', 'Ravi']"
      ]
     },
     "execution_count": 60,
     "metadata": {},
     "output_type": "execute_result"
    }
   ],
   "source": [
    "l1"
   ]
  },
  {
   "cell_type": "code",
   "execution_count": 61,
   "id": "0b03a6d1-b6ae-4439-8fcb-21cab61ae1b1",
   "metadata": {},
   "outputs": [
    {
     "ename": "TypeError",
     "evalue": "pop expected at most 1 argument, got 2",
     "output_type": "error",
     "traceback": [
      "\u001b[0;31m---------------------------------------------------------------------------\u001b[0m",
      "\u001b[0;31mTypeError\u001b[0m                                 Traceback (most recent call last)",
      "Cell \u001b[0;32mIn[61], line 1\u001b[0m\n\u001b[0;32m----> 1\u001b[0m \u001b[43ml1\u001b[49m\u001b[38;5;241;43m.\u001b[39;49m\u001b[43mpop\u001b[49m\u001b[43m(\u001b[49m\u001b[38;5;241;43m2\u001b[39;49m\u001b[43m,\u001b[49m\u001b[38;5;241;43m4\u001b[39;49m\u001b[43m)\u001b[49m\n",
      "\u001b[0;31mTypeError\u001b[0m: pop expected at most 1 argument, got 2"
     ]
    }
   ],
   "source": [
    "l1.pop(2,4)"
   ]
  },
  {
   "cell_type": "code",
   "execution_count": 62,
   "id": "c1471f97-6926-43b4-b134-500c3813f784",
   "metadata": {},
   "outputs": [
    {
     "data": {
      "text/plain": [
       "[5, 'pranjal', [32, 45, 76], 'p', 'r', 'a', 'Ravi']"
      ]
     },
     "execution_count": 62,
     "metadata": {},
     "output_type": "execute_result"
    }
   ],
   "source": [
    "l1\n"
   ]
  },
  {
   "cell_type": "code",
   "execution_count": 63,
   "id": "091e2e02-ab3d-4633-9e54-509cfef24ab6",
   "metadata": {},
   "outputs": [],
   "source": [
    "l2=[45,3,6.1,90,65,35,15,18,87]\n"
   ]
  },
  {
   "cell_type": "code",
   "execution_count": 64,
   "id": "3d52d1fd-eeb7-4658-9c97-61060820010d",
   "metadata": {},
   "outputs": [
    {
     "data": {
      "text/plain": [
       "[45, 3, 6.1, 90, 65, 35, 15, 18, 87]"
      ]
     },
     "execution_count": 64,
     "metadata": {},
     "output_type": "execute_result"
    }
   ],
   "source": [
    "l2"
   ]
  },
  {
   "cell_type": "code",
   "execution_count": 65,
   "id": "9d5e7654-9100-406a-95b2-12ccffc945a6",
   "metadata": {},
   "outputs": [],
   "source": [
    "l2.sort()"
   ]
  },
  {
   "cell_type": "code",
   "execution_count": 66,
   "id": "f502d34b-8225-48bd-b8d3-12650dc44ab8",
   "metadata": {},
   "outputs": [
    {
     "data": {
      "text/plain": [
       "[3, 6.1, 15, 18, 35, 45, 65, 87, 90]"
      ]
     },
     "execution_count": 66,
     "metadata": {},
     "output_type": "execute_result"
    }
   ],
   "source": [
    "l2"
   ]
  },
  {
   "cell_type": "code",
   "execution_count": 67,
   "id": "0a3e24d7-b8cd-4056-9743-e0e4589036c4",
   "metadata": {},
   "outputs": [],
   "source": [
    "l2.sort(reverse=True)"
   ]
  },
  {
   "cell_type": "code",
   "execution_count": 68,
   "id": "7ed778f8-e438-49a8-b95f-92263a623034",
   "metadata": {},
   "outputs": [
    {
     "data": {
      "text/plain": [
       "[90, 87, 65, 45, 35, 18, 15, 6.1, 3]"
      ]
     },
     "execution_count": 68,
     "metadata": {},
     "output_type": "execute_result"
    }
   ],
   "source": [
    "l2"
   ]
  },
  {
   "cell_type": "code",
   "execution_count": 69,
   "id": "0d70c2fb-d01d-453c-a420-7729290e6d4e",
   "metadata": {},
   "outputs": [
    {
     "data": {
      "text/plain": [
       "2"
      ]
     },
     "execution_count": 69,
     "metadata": {},
     "output_type": "execute_result"
    }
   ],
   "source": [
    "l2.index(65)\n"
   ]
  },
  {
   "cell_type": "code",
   "execution_count": 70,
   "id": "736350d2-d99c-42bf-b7c1-438e48b6aa3f",
   "metadata": {},
   "outputs": [
    {
     "data": {
      "text/plain": [
       "1"
      ]
     },
     "execution_count": 70,
     "metadata": {},
     "output_type": "execute_result"
    }
   ],
   "source": [
    "l2.count(65)"
   ]
  },
  {
   "cell_type": "code",
   "execution_count": 75,
   "id": "954998f2-fb51-4b5d-9ed0-967f2309c5b1",
   "metadata": {},
   "outputs": [],
   "source": [
    "l4=[3,4,5]"
   ]
  },
  {
   "cell_type": "code",
   "execution_count": 76,
   "id": "b986b9b0-0beb-414e-beb0-a2b80335cc3d",
   "metadata": {},
   "outputs": [
    {
     "data": {
      "text/plain": [
       "[3, 4, 5]"
      ]
     },
     "execution_count": 76,
     "metadata": {},
     "output_type": "execute_result"
    }
   ],
   "source": [
    "l4"
   ]
  },
  {
   "cell_type": "code",
   "execution_count": 77,
   "id": "c5acffb2-371d-4e44-bb2f-09e26d33656d",
   "metadata": {},
   "outputs": [],
   "source": [
    "l4[0]=1"
   ]
  },
  {
   "cell_type": "code",
   "execution_count": 78,
   "id": "7d1df288-4d58-4bcb-8759-59f7f5d76f81",
   "metadata": {},
   "outputs": [
    {
     "data": {
      "text/plain": [
       "[1, 4, 5]"
      ]
     },
     "execution_count": 78,
     "metadata": {},
     "output_type": "execute_result"
    }
   ],
   "source": [
    "l4\n"
   ]
  },
  {
   "cell_type": "code",
   "execution_count": 2,
   "id": "b4d826a2-9b3d-4dab-b913-bcb50c7f2ce6",
   "metadata": {},
   "outputs": [],
   "source": [
    "u=[2,4,5,6]"
   ]
  },
  {
   "cell_type": "code",
   "execution_count": 3,
   "id": "63eca733-c585-4103-aa7a-e67c4e34d9d7",
   "metadata": {},
   "outputs": [
    {
     "data": {
      "text/plain": [
       "[2, 4, 5, 6]"
      ]
     },
     "execution_count": 3,
     "metadata": {},
     "output_type": "execute_result"
    }
   ],
   "source": [
    "u"
   ]
  },
  {
   "cell_type": "code",
   "execution_count": 4,
   "id": "ad8451b6-d7d5-4580-90a4-9f05e78d7b3a",
   "metadata": {},
   "outputs": [],
   "source": [
    "u.append(7)"
   ]
  },
  {
   "cell_type": "code",
   "execution_count": 5,
   "id": "64471d32-1373-428a-95a1-26e29f311c83",
   "metadata": {},
   "outputs": [
    {
     "data": {
      "text/plain": [
       "[2, 4, 5, 6, 7]"
      ]
     },
     "execution_count": 5,
     "metadata": {},
     "output_type": "execute_result"
    }
   ],
   "source": [
    "u"
   ]
  },
  {
   "cell_type": "code",
   "execution_count": 6,
   "id": "d9fe841d-41b5-4395-8f27-4fa6997403e8",
   "metadata": {},
   "outputs": [],
   "source": [
    "u.append('mango')"
   ]
  },
  {
   "cell_type": "code",
   "execution_count": 7,
   "id": "08dacacc-df98-4316-82dc-ffc8ce028930",
   "metadata": {},
   "outputs": [
    {
     "data": {
      "text/plain": [
       "[2, 4, 5, 6, 7, 'mango']"
      ]
     },
     "execution_count": 7,
     "metadata": {},
     "output_type": "execute_result"
    }
   ],
   "source": [
    "u"
   ]
  },
  {
   "cell_type": "code",
   "execution_count": 8,
   "id": "1fbe6ce1-e301-419e-8b39-b44f9ebdd74f",
   "metadata": {},
   "outputs": [],
   "source": [
    "u.insert(2,'apple')\n"
   ]
  },
  {
   "cell_type": "code",
   "execution_count": 9,
   "id": "f341d822-a414-4464-a254-ed51373b9f17",
   "metadata": {},
   "outputs": [
    {
     "data": {
      "text/plain": [
       "[2, 4, 'apple', 5, 6, 7, 'mango']"
      ]
     },
     "execution_count": 9,
     "metadata": {},
     "output_type": "execute_result"
    }
   ],
   "source": [
    "u"
   ]
  },
  {
   "cell_type": "code",
   "execution_count": 10,
   "id": "b79fd502-61cd-4a0e-ba8d-510f742a81ad",
   "metadata": {},
   "outputs": [
    {
     "data": {
      "text/plain": [
       "['mango', 7, 6, 5, 'apple', 4, 2]"
      ]
     },
     "execution_count": 10,
     "metadata": {},
     "output_type": "execute_result"
    }
   ],
   "source": [
    "u[::-1]"
   ]
  },
  {
   "cell_type": "code",
   "execution_count": 11,
   "id": "984f331a-7f6d-4fe1-9e41-9ecdeebfcd2e",
   "metadata": {},
   "outputs": [
    {
     "data": {
      "text/plain": [
       "0"
      ]
     },
     "execution_count": 11,
     "metadata": {},
     "output_type": "execute_result"
    }
   ],
   "source": [
    "u.count('p')\n"
   ]
  },
  {
   "cell_type": "code",
   "execution_count": null,
   "id": "da412421-87a0-44ee-98d6-0f5b59e48fb8",
   "metadata": {},
   "outputs": [],
   "source": [
    "o"
   ]
  }
 ],
 "metadata": {
  "kernelspec": {
   "display_name": "Python 3 (ipykernel)",
   "language": "python",
   "name": "python3"
  },
  "language_info": {
   "codemirror_mode": {
    "name": "ipython",
    "version": 3
   },
   "file_extension": ".py",
   "mimetype": "text/x-python",
   "name": "python",
   "nbconvert_exporter": "python",
   "pygments_lexer": "ipython3",
   "version": "3.10.8"
  }
 },
 "nbformat": 4,
 "nbformat_minor": 5
}
