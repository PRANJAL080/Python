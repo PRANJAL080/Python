{
 "cells": [
  {
   "cell_type": "code",
   "execution_count": 1,
   "id": "6bca930e-c78a-4949-a51e-690d37821b78",
   "metadata": {},
   "outputs": [
    {
     "data": {
      "text/plain": [
       "2"
      ]
     },
     "execution_count": 1,
     "metadata": {},
     "output_type": "execute_result"
    }
   ],
   "source": [
    "1+1"
   ]
  },
  {
   "cell_type": "code",
   "execution_count": 2,
   "id": "182c4bb5-3a97-4ac1-9a62-f7dad5add9c0",
   "metadata": {},
   "outputs": [
    {
     "data": {
      "text/plain": [
       "25"
      ]
     },
     "execution_count": 2,
     "metadata": {},
     "output_type": "execute_result"
    }
   ],
   "source": [
    "5*5"
   ]
  },
  {
   "cell_type": "code",
   "execution_count": 3,
   "id": "076a0ed1-3308-4961-80ce-0846af48a77f",
   "metadata": {},
   "outputs": [
    {
     "data": {
      "text/plain": [
       "1.0"
      ]
     },
     "execution_count": 3,
     "metadata": {},
     "output_type": "execute_result"
    }
   ],
   "source": [
    "5/5\n"
   ]
  },
  {
   "cell_type": "code",
   "execution_count": null,
   "id": "893107bb-f13b-4415-99a0-647a335f65f2",
   "metadata": {},
   "outputs": [],
   "source": [
    "a=80"
   ]
  },
  {
   "cell_type": "code",
   "execution_count": 10,
   "id": "ed3423b5-0b53-44e0-9961-323fc79c73f5",
   "metadata": {},
   "outputs": [
    {
     "data": {
      "text/plain": [
       "80"
      ]
     },
     "execution_count": 10,
     "metadata": {},
     "output_type": "execute_result"
    }
   ],
   "source": [
    "a"
   ]
  },
  {
   "cell_type": "code",
   "execution_count": 20,
   "id": "3e948f6a-25e8-4e6d-bf95-7bb156c6c331",
   "metadata": {},
   "outputs": [],
   "source": [
    "p=80"
   ]
  },
  {
   "cell_type": "code",
   "execution_count": 16,
   "id": "ae31b2b9-876b-44ae-a43a-9637b87b1ba8",
   "metadata": {},
   "outputs": [
    {
     "data": {
      "text/plain": [
       "80"
      ]
     },
     "execution_count": 16,
     "metadata": {},
     "output_type": "execute_result"
    }
   ],
   "source": [
    "p"
   ]
  },
  {
   "cell_type": "code",
   "execution_count": 17,
   "id": "7367f206-5ab5-4cf9-b9aa-2e1d9756a138",
   "metadata": {},
   "outputs": [
    {
     "data": {
      "text/plain": [
       "160"
      ]
     },
     "execution_count": 17,
     "metadata": {},
     "output_type": "execute_result"
    }
   ],
   "source": [
    "a+p"
   ]
  },
  {
   "cell_type": "code",
   "execution_count": 18,
   "id": "b47ad517-92f8-4138-b205-1666853db9eb",
   "metadata": {},
   "outputs": [
    {
     "data": {
      "text/plain": [
       "int"
      ]
     },
     "execution_count": 18,
     "metadata": {},
     "output_type": "execute_result"
    }
   ],
   "source": [
    "type(p)// it gives which type of data type \n"
   ]
  },
  {
   "cell_type": "code",
   "execution_count": 21,
   "id": "35a14ebb-6853-41c1-9dda-616282a67130",
   "metadata": {},
   "outputs": [
    {
     "data": {
      "text/plain": [
       "int"
      ]
     },
     "execution_count": 21,
     "metadata": {},
     "output_type": "execute_result"
    }
   ],
   "source": [
    "type(a)"
   ]
  },
  {
   "cell_type": "code",
   "execution_count": 1,
   "id": "81e1a60a-7dbb-4a55-8a1f-30b7a0646644",
   "metadata": {},
   "outputs": [],
   "source": [
    "d=\"PRANJAL PANDEY\""
   ]
  },
  {
   "cell_type": "code",
   "execution_count": 2,
   "id": "afb17c33-b10d-4e35-a3f1-ab0b72dc9846",
   "metadata": {},
   "outputs": [
    {
     "data": {
      "text/plain": [
       "'PRANJAL PANDEY'"
      ]
     },
     "execution_count": 2,
     "metadata": {},
     "output_type": "execute_result"
    }
   ],
   "source": [
    "d"
   ]
  },
  {
   "cell_type": "code",
   "execution_count": 3,
   "id": "631a545c-66f4-483a-9c35-b85852f5cd6e",
   "metadata": {},
   "outputs": [
    {
     "data": {
      "text/plain": [
       "str"
      ]
     },
     "execution_count": 3,
     "metadata": {},
     "output_type": "execute_result"
    }
   ],
   "source": [
    "type(d)"
   ]
  },
  {
   "cell_type": "code",
   "execution_count": 4,
   "id": "fdde3cd9-61e5-4537-a83e-131cfe3a1f57",
   "metadata": {},
   "outputs": [],
   "source": [
    "f='this is my first tech class'\n"
   ]
  },
  {
   "cell_type": "code",
   "execution_count": 5,
   "id": "a1890c35-bf11-4cd7-aee5-6146fa81fdca",
   "metadata": {},
   "outputs": [
    {
     "data": {
      "text/plain": [
       "'this is my first tech class'"
      ]
     },
     "execution_count": 5,
     "metadata": {},
     "output_type": "execute_result"
    }
   ],
   "source": [
    "f"
   ]
  },
  {
   "cell_type": "code",
   "execution_count": 6,
   "id": "57f0405c-c37e-4f4f-93aa-c6119f335a70",
   "metadata": {},
   "outputs": [
    {
     "data": {
      "text/plain": [
       "str"
      ]
     },
     "execution_count": 6,
     "metadata": {},
     "output_type": "execute_result"
    }
   ],
   "source": [
    "type(f)"
   ]
  },
  {
   "cell_type": "code",
   "execution_count": 1,
   "id": "0bee91a4-3709-4244-ad2b-d1e13b040e64",
   "metadata": {},
   "outputs": [],
   "source": [
    "v=8+6j"
   ]
  },
  {
   "cell_type": "code",
   "execution_count": 2,
   "id": "a481d6f9-cdd4-4c81-a024-397cf59e0b67",
   "metadata": {},
   "outputs": [
    {
     "data": {
      "text/plain": [
       "8.0"
      ]
     },
     "execution_count": 2,
     "metadata": {},
     "output_type": "execute_result"
    }
   ],
   "source": [
    "v.real"
   ]
  },
  {
   "cell_type": "code",
   "execution_count": 3,
   "id": "ddd61741-d8c1-49fc-bb69-de89a59bf10c",
   "metadata": {},
   "outputs": [
    {
     "data": {
      "text/plain": [
       "6.0"
      ]
     },
     "execution_count": 3,
     "metadata": {},
     "output_type": "execute_result"
    }
   ],
   "source": [
    "v.imag"
   ]
  },
  {
   "cell_type": "code",
   "execution_count": 4,
   "id": "7fd29be2-3a8e-470a-9a6f-c29aba3e38e7",
   "metadata": {},
   "outputs": [
    {
     "data": {
      "text/plain": [
       "<function complex.conjugate()>"
      ]
     },
     "execution_count": 4,
     "metadata": {},
     "output_type": "execute_result"
    }
   ],
   "source": [
    "v.conjugate"
   ]
  },
  {
   "cell_type": "code",
   "execution_count": 8,
   "id": "b4425bd3-8a70-43b4-b40a-75d986af6263",
   "metadata": {},
   "outputs": [],
   "source": [
    "e=\"Pranjal\""
   ]
  },
  {
   "cell_type": "code",
   "execution_count": 6,
   "id": "42999e0d-2bcc-4fc9-bd39-aeaedf61fc10",
   "metadata": {},
   "outputs": [
    {
     "data": {
      "text/plain": [
       "'P'"
      ]
     },
     "execution_count": 6,
     "metadata": {},
     "output_type": "execute_result"
    }
   ],
   "source": [
    "e[0]"
   ]
  },
  {
   "cell_type": "code",
   "execution_count": 7,
   "id": "0f551091-a868-4228-8229-0dc3faa58f82",
   "metadata": {},
   "outputs": [
    {
     "data": {
      "text/plain": [
       "'j'"
      ]
     },
     "execution_count": 7,
     "metadata": {},
     "output_type": "execute_result"
    }
   ],
   "source": [
    "e[4]"
   ]
  },
  {
   "cell_type": "code",
   "execution_count": 4,
   "id": "75dbdc2e-3aa6-46bc-96b8-fbd885b15ab9",
   "metadata": {},
   "outputs": [
    {
     "data": {
      "text/plain": [
       "'Pran'"
      ]
     },
     "execution_count": 4,
     "metadata": {},
     "output_type": "execute_result"
    }
   ],
   "source": [
    "e[0:4]"
   ]
  },
  {
   "cell_type": "code",
   "execution_count": 5,
   "id": "80c0ffe8-164f-49e2-9137-5cf52086ca1b",
   "metadata": {},
   "outputs": [
    {
     "data": {
      "text/plain": [
       "'Pra'"
      ]
     },
     "execution_count": 5,
     "metadata": {},
     "output_type": "execute_result"
    }
   ],
   "source": [
    "e[0:3]"
   ]
  },
  {
   "cell_type": "code",
   "execution_count": 6,
   "id": "a0839658-8f3d-4a37-a127-69353fb4d138",
   "metadata": {},
   "outputs": [
    {
     "data": {
      "text/plain": [
       "'Pr'"
      ]
     },
     "execution_count": 6,
     "metadata": {},
     "output_type": "execute_result"
    }
   ],
   "source": [
    "e[0:2]"
   ]
  },
  {
   "cell_type": "code",
   "execution_count": 9,
   "id": "ea42e239-635f-45b6-9b54-48dcd4393c0e",
   "metadata": {},
   "outputs": [
    {
     "data": {
      "text/plain": [
       "'Pajl'"
      ]
     },
     "execution_count": 9,
     "metadata": {},
     "output_type": "execute_result"
    }
   ],
   "source": [
    "e[0:7:2]"
   ]
  },
  {
   "cell_type": "code",
   "execution_count": 10,
   "id": "24c53d5b-849b-4e93-8c2b-36b9509da3a9",
   "metadata": {},
   "outputs": [
    {
     "data": {
      "text/plain": [
       "'lajnar'"
      ]
     },
     "execution_count": 10,
     "metadata": {},
     "output_type": "execute_result"
    }
   ],
   "source": [
    "e[7:0:-1]"
   ]
  },
  {
   "cell_type": "code",
   "execution_count": 1,
   "id": "3c9bdd9a-fec8-4eda-a478-4fb8f2b9e7d6",
   "metadata": {},
   "outputs": [],
   "source": [
    "z='Pranjal'"
   ]
  },
  {
   "cell_type": "code",
   "execution_count": 3,
   "id": "17e6a33e-e3d7-49a0-b7ac-0ac3093d6290",
   "metadata": {},
   "outputs": [
    {
     "data": {
      "text/plain": [
       "str"
      ]
     },
     "execution_count": 3,
     "metadata": {},
     "output_type": "execute_result"
    }
   ],
   "source": [
    "type(z)"
   ]
  },
  {
   "cell_type": "code",
   "execution_count": 7,
   "id": "89c0801e-7a45-42f3-9681-6f1c89fb82ff",
   "metadata": {},
   "outputs": [],
   "source": [
    "a='uarelion'\n"
   ]
  },
  {
   "cell_type": "code",
   "execution_count": 8,
   "id": "69c52904-4f97-4df2-a261-43462c1a0bc7",
   "metadata": {},
   "outputs": [
    {
     "data": {
      "text/plain": [
       "'r'"
      ]
     },
     "execution_count": 8,
     "metadata": {},
     "output_type": "execute_result"
    }
   ],
   "source": [
    "a[2]"
   ]
  },
  {
   "cell_type": "code",
   "execution_count": 9,
   "id": "43af3f09-88dd-4357-bb74-ff3734095b4a",
   "metadata": {},
   "outputs": [
    {
     "data": {
      "text/plain": [
       "'l'"
      ]
     },
     "execution_count": 9,
     "metadata": {},
     "output_type": "execute_result"
    }
   ],
   "source": [
    "a[4]"
   ]
  },
  {
   "cell_type": "code",
   "execution_count": 10,
   "id": "14f61140-702a-4a8d-8f8b-594d7e2ad8aa",
   "metadata": {},
   "outputs": [],
   "source": [
    "g = \"piyushgandu\""
   ]
  },
  {
   "cell_type": "code",
   "execution_count": 11,
   "id": "eef73d6b-39a8-4c6c-a30b-7831b20f69f8",
   "metadata": {},
   "outputs": [
    {
     "data": {
      "text/plain": [
       "str"
      ]
     },
     "execution_count": 11,
     "metadata": {},
     "output_type": "execute_result"
    }
   ],
   "source": [
    "type(g)"
   ]
  },
  {
   "cell_type": "code",
   "execution_count": 12,
   "id": "2b49aa8f-9f9e-4029-bbfe-94239c993a94",
   "metadata": {},
   "outputs": [],
   "source": [
    "c= 'a'"
   ]
  },
  {
   "cell_type": "code",
   "execution_count": 13,
   "id": "b320e741-99ee-4ea4-ae56-136ebc4ee425",
   "metadata": {},
   "outputs": [
    {
     "data": {
      "text/plain": [
       "str"
      ]
     },
     "execution_count": 13,
     "metadata": {},
     "output_type": "execute_result"
    }
   ],
   "source": [
    "type(c)"
   ]
  },
  {
   "cell_type": "code",
   "execution_count": 18,
   "id": "3d88b8cb-8e69-4b3d-9b65-f766b85b55ac",
   "metadata": {},
   "outputs": [],
   "source": [
    "m=6+10j"
   ]
  },
  {
   "cell_type": "code",
   "execution_count": 19,
   "id": "eb70b044-77a9-4288-8faa-cc6ac9be4ffb",
   "metadata": {},
   "outputs": [
    {
     "data": {
      "text/plain": [
       "6.0"
      ]
     },
     "execution_count": 19,
     "metadata": {},
     "output_type": "execute_result"
    }
   ],
   "source": [
    "m.real"
   ]
  },
  {
   "cell_type": "code",
   "execution_count": 20,
   "id": "8cb358bb-6ae5-4bdd-ad36-4ff1c8f351d9",
   "metadata": {},
   "outputs": [
    {
     "data": {
      "text/plain": [
       "<function complex.conjugate()>"
      ]
     },
     "execution_count": 20,
     "metadata": {},
     "output_type": "execute_result"
    }
   ],
   "source": [
    "m.conjugate"
   ]
  },
  {
   "cell_type": "code",
   "execution_count": 21,
   "id": "febc9797-1af3-45d9-85c2-412c60adeeda",
   "metadata": {},
   "outputs": [
    {
     "data": {
      "text/plain": [
       "10.0"
      ]
     },
     "execution_count": 21,
     "metadata": {},
     "output_type": "execute_result"
    }
   ],
   "source": [
    "m.imag"
   ]
  },
  {
   "cell_type": "code",
   "execution_count": 22,
   "id": "098c8281-f1cf-43c9-98ae-e05594c203f6",
   "metadata": {},
   "outputs": [],
   "source": [
    "ri=18+80j"
   ]
  },
  {
   "cell_type": "code",
   "execution_count": 23,
   "id": "eb28cf67-3c77-49b6-81f0-4533affea08c",
   "metadata": {},
   "outputs": [
    {
     "data": {
      "text/plain": [
       "18.0"
      ]
     },
     "execution_count": 23,
     "metadata": {},
     "output_type": "execute_result"
    }
   ],
   "source": [
    "ri.real"
   ]
  },
  {
   "cell_type": "code",
   "execution_count": 24,
   "id": "7bdeb06d-3e6f-4e8a-872b-3ef12e8e159a",
   "metadata": {},
   "outputs": [
    {
     "data": {
      "text/plain": [
       "80.0"
      ]
     },
     "execution_count": 24,
     "metadata": {},
     "output_type": "execute_result"
    }
   ],
   "source": [
    "ri.imag"
   ]
  },
  {
   "cell_type": "code",
   "execution_count": 3,
   "id": "d2cc8b6d-aef3-4f65-baa7-0d4384a225f1",
   "metadata": {},
   "outputs": [],
   "source": [
    "s1=\"this is pranjal\""
   ]
  },
  {
   "cell_type": "code",
   "execution_count": 4,
   "id": "9a45b2b1-5012-4601-95c1-19c94933841d",
   "metadata": {},
   "outputs": [
    {
     "data": {
      "text/plain": [
       "15"
      ]
     },
     "execution_count": 4,
     "metadata": {},
     "output_type": "execute_result"
    }
   ],
   "source": [
    "len(s1)"
   ]
  },
  {
   "cell_type": "code",
   "execution_count": 13,
   "id": "9d084a0d-139f-4e0e-980a-4561bc03a699",
   "metadata": {},
   "outputs": [
    {
     "data": {
      "text/plain": [
       "8"
      ]
     },
     "execution_count": 13,
     "metadata": {},
     "output_type": "execute_result"
    }
   ],
   "source": [
    "s1.find('p')"
   ]
  },
  {
   "cell_type": "code",
   "execution_count": 15,
   "id": "342bff05-4834-43c4-b3fc-eaa778fe5319",
   "metadata": {},
   "outputs": [
    {
     "data": {
      "text/plain": [
       "1"
      ]
     },
     "execution_count": 15,
     "metadata": {},
     "output_type": "execute_result"
    }
   ],
   "source": [
    "s1.count('p')"
   ]
  },
  {
   "cell_type": "code",
   "execution_count": 16,
   "id": "fa65012c-090d-45d0-b09e-d005d33afd56",
   "metadata": {},
   "outputs": [
    {
     "data": {
      "text/plain": [
       "1"
      ]
     },
     "execution_count": 16,
     "metadata": {},
     "output_type": "execute_result"
    }
   ],
   "source": [
    "s1.count(\"pr\")"
   ]
  },
  {
   "cell_type": "code",
   "execution_count": 10,
   "id": "e3b88a77-d752-463c-b180-33c5a03bf757",
   "metadata": {},
   "outputs": [],
   "source": [
    "b = 'jai shree ram'"
   ]
  },
  {
   "cell_type": "code",
   "execution_count": 11,
   "id": "1ec30c0d-0e24-4cd0-905d-e49422dd0b98",
   "metadata": {},
   "outputs": [
    {
     "data": {
      "text/plain": [
       "'jai shree ram'"
      ]
     },
     "execution_count": 11,
     "metadata": {},
     "output_type": "execute_result"
    }
   ],
   "source": [
    "b"
   ]
  },
  {
   "cell_type": "code",
   "execution_count": 12,
   "id": "78207ab7-0bcf-4da9-a9a6-d5d62b65252c",
   "metadata": {},
   "outputs": [
    {
     "data": {
      "text/plain": [
       "'jai shree ram3'"
      ]
     },
     "execution_count": 12,
     "metadata": {},
     "output_type": "execute_result"
    }
   ],
   "source": [
    "b + str(3)"
   ]
  },
  {
   "cell_type": "code",
   "execution_count": 14,
   "id": "72baa13e-d10c-464b-af32-45a61e9e2720",
   "metadata": {},
   "outputs": [
    {
     "data": {
      "text/plain": [
       "'jai shree ramjai shree ramjai shree ram'"
      ]
     },
     "execution_count": 14,
     "metadata": {},
     "output_type": "execute_result"
    }
   ],
   "source": [
    "b* 3"
   ]
  },
  {
   "cell_type": "code",
   "execution_count": 5,
   "id": "c499d426-ebe8-4d8f-83bd-8b5941010468",
   "metadata": {},
   "outputs": [
    {
     "data": {
      "text/plain": [
       "'this is pranjal'"
      ]
     },
     "execution_count": 5,
     "metadata": {},
     "output_type": "execute_result"
    }
   ],
   "source": [
    "s1"
   ]
  },
  {
   "cell_type": "code",
   "execution_count": 6,
   "id": "2c0d3746-bf97-4374-bbeb-109dd4f67148",
   "metadata": {},
   "outputs": [
    {
     "ename": "TypeError",
     "evalue": "can only concatenate str (not \"int\") to str",
     "output_type": "error",
     "traceback": [
      "\u001b[0;31m---------------------------------------------------------------------------\u001b[0m",
      "\u001b[0;31mTypeError\u001b[0m                                 Traceback (most recent call last)",
      "Cell \u001b[0;32mIn[6], line 1\u001b[0m\n\u001b[0;32m----> 1\u001b[0m \u001b[43ms1\u001b[49m\u001b[38;5;241;43m+\u001b[39;49m\u001b[38;5;241;43m1\u001b[39;49m\n",
      "\u001b[0;31mTypeError\u001b[0m: can only concatenate str (not \"int\") to str"
     ]
    }
   ],
   "source": [
    "s1+1"
   ]
  },
  {
   "cell_type": "code",
   "execution_count": 7,
   "id": "2e995617-5c85-4dc2-b708-c2c8fbbe869e",
   "metadata": {},
   "outputs": [
    {
     "data": {
      "text/plain": [
       "'this is pranjal1'"
      ]
     },
     "execution_count": 7,
     "metadata": {},
     "output_type": "execute_result"
    }
   ],
   "source": [
    "s1+str(1)"
   ]
  },
  {
   "cell_type": "code",
   "execution_count": null,
   "id": "bf402fea-6584-4958-9a7f-f48486f1a93c",
   "metadata": {},
   "outputs": [],
   "source": []
  }
 ],
 "metadata": {
  "kernelspec": {
   "display_name": "Python 3 (ipykernel)",
   "language": "python",
   "name": "python3"
  },
  "language_info": {
   "codemirror_mode": {
    "name": "ipython",
    "version": 3
   },
   "file_extension": ".py",
   "mimetype": "text/x-python",
   "name": "python",
   "nbconvert_exporter": "python",
   "pygments_lexer": "ipython3",
   "version": "3.10.8"
  }
 },
 "nbformat": 4,
 "nbformat_minor": 5
}
