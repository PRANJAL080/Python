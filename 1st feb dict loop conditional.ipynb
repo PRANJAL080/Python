{
 "cells": [
  {
   "cell_type": "code",
   "execution_count": null,
   "id": "6e5be63e-4f1f-400d-80eb-0daf81609318",
   "metadata": {},
   "outputs": [],
   "source": [
    "##Dictonary\n"
   ]
  },
  {
   "cell_type": "code",
   "execution_count": 1,
   "id": "d829eb5a-76c6-4fa6-8bd4-51f2e627a379",
   "metadata": {},
   "outputs": [],
   "source": [
    "d1 = {}\n"
   ]
  },
  {
   "cell_type": "code",
   "execution_count": 2,
   "id": "2d14fb6c-91c1-4833-9d8f-cc6dd78fa68c",
   "metadata": {},
   "outputs": [
    {
     "data": {
      "text/plain": [
       "dict"
      ]
     },
     "execution_count": 2,
     "metadata": {},
     "output_type": "execute_result"
    }
   ],
   "source": [
    "type(d1)"
   ]
  },
  {
   "cell_type": "code",
   "execution_count": 7,
   "id": "8684eec2-1da0-4829-abd3-6cad97827d07",
   "metadata": {},
   "outputs": [],
   "source": [
    "d2 = {'name':\"pranjal\",'email':\"pranjalpandey1800@gmail.com\", 'contact ' : 6388828276,8888:'vip number of pranjal'}"
   ]
  },
  {
   "cell_type": "code",
   "execution_count": 8,
   "id": "86b8c036-6b5f-470d-b651-46977e586ddd",
   "metadata": {},
   "outputs": [
    {
     "data": {
      "text/plain": [
       "{'name': 'pranjal',\n",
       " 'email': 'pranjalpandey1800@gmail.com',\n",
       " 'contact ': 6388828276,\n",
       " 8888: 'vip number of pranjal'}"
      ]
     },
     "execution_count": 8,
     "metadata": {},
     "output_type": "execute_result"
    }
   ],
   "source": [
    "d2"
   ]
  },
  {
   "cell_type": "code",
   "execution_count": 9,
   "id": "66249b27-d771-41bf-8a1e-5d89c0df3bf0",
   "metadata": {},
   "outputs": [
    {
     "data": {
      "text/plain": [
       "'vip number of pranjal'"
      ]
     },
     "execution_count": 9,
     "metadata": {},
     "output_type": "execute_result"
    }
   ],
   "source": [
    "d2[8888]"
   ]
  },
  {
   "cell_type": "code",
   "execution_count": 10,
   "id": "70b7e731-dbdf-43ec-b789-2c70fbd2e49b",
   "metadata": {},
   "outputs": [],
   "source": [
    "d5={'company':\"i am best in data science\",\"course\":['web dev','data science','java with dsa system design']}"
   ]
  },
  {
   "cell_type": "code",
   "execution_count": 11,
   "id": "a5b05439-bfd2-4fac-93df-32071b1da04b",
   "metadata": {},
   "outputs": [
    {
     "data": {
      "text/plain": [
       "{'company': 'i am best in data science',\n",
       " 'course': ['web dev', 'data science', 'java with dsa system design']}"
      ]
     },
     "execution_count": 11,
     "metadata": {},
     "output_type": "execute_result"
    }
   ],
   "source": [
    "d5"
   ]
  },
  {
   "cell_type": "code",
   "execution_count": 12,
   "id": "ca6590b5-2ee5-42cc-83c7-be1188e350a0",
   "metadata": {},
   "outputs": [
    {
     "data": {
      "text/plain": [
       "'data science'"
      ]
     },
     "execution_count": 12,
     "metadata": {},
     "output_type": "execute_result"
    }
   ],
   "source": [
    "d5['course'][1]"
   ]
  },
  {
   "cell_type": "code",
   "execution_count": 13,
   "id": "7c90f4d1-46b5-460d-9011-e313be42a5f9",
   "metadata": {},
   "outputs": [],
   "source": [
    "d6 = {'number':[2,3,3,4,5,5,7],'assignment':(1,2,3,5,6),'launch date':{12,14,4},'class_time':{'web_dev':8,' data science master':8,'cse':7}}"
   ]
  },
  {
   "cell_type": "code",
   "execution_count": 14,
   "id": "7ad4650e-3f2e-4660-91f1-15ddffbb7562",
   "metadata": {},
   "outputs": [
    {
     "data": {
      "text/plain": [
       "{'number': [2, 3, 3, 4, 5, 5, 7],\n",
       " 'assignment': (1, 2, 3, 5, 6),\n",
       " 'launch date': {4, 12, 14},\n",
       " 'class_time': {'web_dev': 8, ' data science master': 8, 'cse': 7}}"
      ]
     },
     "execution_count": 14,
     "metadata": {},
     "output_type": "execute_result"
    }
   ],
   "source": [
    "d6"
   ]
  },
  {
   "cell_type": "code",
   "execution_count": 15,
   "id": "31f5ebd6-70c6-43bb-a4f5-20a4acc595da",
   "metadata": {},
   "outputs": [
    {
     "data": {
      "text/plain": [
       "7"
      ]
     },
     "execution_count": 15,
     "metadata": {},
     "output_type": "execute_result"
    }
   ],
   "source": [
    "d6['class_time']['cse']"
   ]
  },
  {
   "cell_type": "code",
   "execution_count": 16,
   "id": "0160cabe-9888-427f-a3a6-a0e57429aac8",
   "metadata": {},
   "outputs": [
    {
     "data": {
      "text/plain": [
       "8"
      ]
     },
     "execution_count": 16,
     "metadata": {},
     "output_type": "execute_result"
    }
   ],
   "source": [
    "d6['class_time']['web_dev']"
   ]
  },
  {
   "cell_type": "code",
   "execution_count": 17,
   "id": "2e427ff6-2ad5-4256-8781-f8352fc33734",
   "metadata": {},
   "outputs": [],
   "source": [
    "d6['mentor']=[\"sudh\",\"pranjal\",\"malay\"]"
   ]
  },
  {
   "cell_type": "code",
   "execution_count": 18,
   "id": "ef471658-bcc7-4f90-b6d6-a87b22e4f2c4",
   "metadata": {},
   "outputs": [
    {
     "data": {
      "text/plain": [
       "{'number': [2, 3, 3, 4, 5, 5, 7],\n",
       " 'assignment': (1, 2, 3, 5, 6),\n",
       " 'launch date': {4, 12, 14},\n",
       " 'class_time': {'web_dev': 8, ' data science master': 8, 'cse': 7},\n",
       " 'mentor': ['sudh', 'pranjal', 'malay']}"
      ]
     },
     "execution_count": 18,
     "metadata": {},
     "output_type": "execute_result"
    }
   ],
   "source": [
    "d6"
   ]
  },
  {
   "cell_type": "code",
   "execution_count": 19,
   "id": "d2d84e26-281c-43df-ba4a-a1727668bb4a",
   "metadata": {},
   "outputs": [
    {
     "data": {
      "text/plain": [
       "dict_keys(['number', 'assignment', 'launch date', 'class_time', 'mentor'])"
      ]
     },
     "execution_count": 19,
     "metadata": {},
     "output_type": "execute_result"
    }
   ],
   "source": [
    "d6.keys()\n"
   ]
  },
  {
   "cell_type": "code",
   "execution_count": 20,
   "id": "d5fb25e3-a1f1-4350-ac30-f0065b29772e",
   "metadata": {},
   "outputs": [
    {
     "data": {
      "text/plain": [
       "['number', 'assignment', 'launch date', 'class_time', 'mentor']"
      ]
     },
     "execution_count": 20,
     "metadata": {},
     "output_type": "execute_result"
    }
   ],
   "source": [
    "list(d6.keys())"
   ]
  },
  {
   "cell_type": "code",
   "execution_count": 21,
   "id": "da147f9e-78bf-45e4-895b-7af9a809f7f0",
   "metadata": {},
   "outputs": [
    {
     "data": {
      "text/plain": [
       "dict_values([[2, 3, 3, 4, 5, 5, 7], (1, 2, 3, 5, 6), {12, 4, 14}, {'web_dev': 8, ' data science master': 8, 'cse': 7}, ['sudh', 'pranjal', 'malay']])"
      ]
     },
     "execution_count": 21,
     "metadata": {},
     "output_type": "execute_result"
    }
   ],
   "source": [
    "d6.values()"
   ]
  },
  {
   "cell_type": "code",
   "execution_count": 22,
   "id": "4e2611e5-039e-4ae5-9b30-18682fa8e21e",
   "metadata": {},
   "outputs": [
    {
     "data": {
      "text/plain": [
       "[[2, 3, 3, 4, 5, 5, 7],\n",
       " (1, 2, 3, 5, 6),\n",
       " {4, 12, 14},\n",
       " {'web_dev': 8, ' data science master': 8, 'cse': 7},\n",
       " ['sudh', 'pranjal', 'malay']]"
      ]
     },
     "execution_count": 22,
     "metadata": {},
     "output_type": "execute_result"
    }
   ],
   "source": [
    "list(d6.values())"
   ]
  },
  {
   "cell_type": "code",
   "execution_count": 23,
   "id": "e53dacf1-693e-4be3-bab3-912cbf13bd1c",
   "metadata": {},
   "outputs": [
    {
     "data": {
      "text/plain": [
       "dict_items([('number', [2, 3, 3, 4, 5, 5, 7]), ('assignment', (1, 2, 3, 5, 6)), ('launch date', {12, 4, 14}), ('class_time', {'web_dev': 8, ' data science master': 8, 'cse': 7}), ('mentor', ['sudh', 'pranjal', 'malay'])])"
      ]
     },
     "execution_count": 23,
     "metadata": {},
     "output_type": "execute_result"
    }
   ],
   "source": [
    "d6.items()"
   ]
  },
  {
   "cell_type": "code",
   "execution_count": 24,
   "id": "2dee4230-70cc-4a3a-b027-664011bfdc7f",
   "metadata": {},
   "outputs": [
    {
     "data": {
      "text/plain": [
       "['sudh', 'pranjal', 'malay']"
      ]
     },
     "execution_count": 24,
     "metadata": {},
     "output_type": "execute_result"
    }
   ],
   "source": [
    "d6['mentor']"
   ]
  },
  {
   "cell_type": "code",
   "execution_count": 1,
   "id": "01f3cd14-504d-41b1-8d64-7db60995f3c1",
   "metadata": {},
   "outputs": [],
   "source": [
    " ###conditional"
   ]
  },
  {
   "cell_type": "code",
   "execution_count": 6,
   "id": "75d944b5-9eee-4b9b-9211-3e0a2ac9227d",
   "metadata": {},
   "outputs": [
    {
     "name": "stdin",
     "output_type": "stream",
     "text": [
      "enter your marks 45\n"
     ]
    },
    {
     "name": "stdout",
     "output_type": "stream",
     "text": [
      "you are selected for a3 team\n"
     ]
    }
   ],
   "source": [
    "marks=int(input(\"enter your marks\"))\n",
    "if marks >= 80:\n",
    "    print(\" you are selected for a1 team \")\n",
    "elif marks >=60 and marks < 80 :\n",
    "    print(\" you are selected for a2 team \")\n",
    "elif marks >=40 and marks < 60 :\n",
    "    print(\"you are selected for a3 team\")\n",
    "else :\n",
    "    print(\"sorry you are not selected\")\n",
    "\n",
    "    "
   ]
  },
  {
   "cell_type": "code",
   "execution_count": 1,
   "id": "5ad7cdaa-874e-4cb2-8004-568492772ac7",
   "metadata": {},
   "outputs": [],
   "source": [
    "###loop"
   ]
  },
  {
   "cell_type": "code",
   "execution_count": 2,
   "id": "e6050e70-1461-49b4-8886-ee5e50fb6f8d",
   "metadata": {},
   "outputs": [],
   "source": [
    "l=[1,3,4,5,6,6,8,8.9]"
   ]
  },
  {
   "cell_type": "code",
   "execution_count": 3,
   "id": "a1773e7a-8e35-4481-8ca6-ed441ba71abc",
   "metadata": {},
   "outputs": [
    {
     "data": {
      "text/plain": [
       "[1, 3, 4, 5, 6, 6, 8, 8.9]"
      ]
     },
     "execution_count": 3,
     "metadata": {},
     "output_type": "execute_result"
    }
   ],
   "source": [
    "l"
   ]
  },
  {
   "cell_type": "code",
   "execution_count": 6,
   "id": "f3c6e67a-6745-4c9e-b110-49e09cdf90f4",
   "metadata": {},
   "outputs": [
    {
     "data": {
      "text/plain": [
       "[2, 4, 5, 6, 7, 7, 9, 9.9]"
      ]
     },
     "execution_count": 6,
     "metadata": {},
     "output_type": "execute_result"
    }
   ],
   "source": [
    "l1=[]\n",
    "for i in l :\n",
    "    l1.append(i+1)\n",
    "l1    "
   ]
  },
  {
   "cell_type": "code",
   "execution_count": 5,
   "id": "f24b390c-b614-4ff9-a95b-4425be4eee2a",
   "metadata": {},
   "outputs": [
    {
     "data": {
      "text/plain": [
       "[2, 4, 5, 6, 7, 7, 9, 9.9]"
      ]
     },
     "execution_count": 5,
     "metadata": {},
     "output_type": "execute_result"
    }
   ],
   "source": [
    "l1\n"
   ]
  },
  {
   "cell_type": "code",
   "execution_count": null,
   "id": "459cf5d8-6db2-413b-ba29-a91c5a8dbdca",
   "metadata": {},
   "outputs": [],
   "source": []
  }
 ],
 "metadata": {
  "kernelspec": {
   "display_name": "Python 3 (ipykernel)",
   "language": "python",
   "name": "python3"
  },
  "language_info": {
   "codemirror_mode": {
    "name": "ipython",
    "version": 3
   },
   "file_extension": ".py",
   "mimetype": "text/x-python",
   "name": "python",
   "nbconvert_exporter": "python",
   "pygments_lexer": "ipython3",
   "version": "3.10.8"
  }
 },
 "nbformat": 4,
 "nbformat_minor": 5
}
